{
 "cells": [
  {
   "cell_type": "code",
   "execution_count": 7,
   "metadata": {},
   "outputs": [],
   "source": [
    "import timeit\n",
    "import pandas as pd\n",
    "from mupa.multiprocessing import multiprocessor\n",
    "\n",
    "pmp = multiprocessor()\n",
    "\n",
    "## Grab Data for testing \n",
    "df_1k = pd.read_csv('movie_dialog_pairs.csv')[:1000]\n",
    "df_10k = pd.concat([df_1k] * 10)\n",
    "df_100k = pd.concat([df_1k] * 100)\n",
    "df_1m =  pd.concat([df_1k] * 1000)\n",
    "df_10m =  pd.concat([df_1k] * 10000)"
   ]
  },
  {
   "cell_type": "code",
   "execution_count": 8,
   "metadata": {},
   "outputs": [],
   "source": [
    "## some functions for trial\n",
    "def has_long_words(_string):\n",
    "    _list = [len(word) for word in _string.split()]\n",
    "\n",
    "    if len(_list) > 0:\n",
    "        return True if max(_list) > 5 else False\n",
    "    else:\n",
    "        return False\n",
    "\n",
    "def has_long_words_applicator(df):\n",
    "        ## ensures new_col exists\n",
    "        ## create new column with function passed\n",
    "        df['parent_contains_longword'] = df['parent'].apply(has_long_words)\n",
    "        ## return the frame\n",
    "        return df\n",
    "\n",
    "def contains_test_word(_string):\n",
    "    test_words = ['hello', 'world', 'never', 'going', 'to', 'give', 'you', 'up']\n",
    "    _string = _string.lower().split()\n",
    "\n",
    "    for word in _string:\n",
    "        if word in test_words:\n",
    "            return True\n",
    "    return False\n",
    "\n",
    "def test_word_applicator(df):\n",
    "    ## ensures new_col exists\n",
    "    ## create new column with function passed\n",
    "    df['parent_contains_test_word'] = df['parent'].apply(contains_test_word)\n",
    "    ## return the frame\n",
    "    return df\n"
   ]
  },
  {
   "cell_type": "code",
   "execution_count": 11,
   "metadata": {},
   "outputs": [
    {
     "data": {
      "text/plain": [
       "True     243768\n",
       "False     60328\n",
       "Name: parent_contains_longword, dtype: int64"
      ]
     },
     "execution_count": 11,
     "metadata": {},
     "output_type": "execute_result"
    }
   ],
   "source": [
    "# demonstration of application\n",
    "_ = pmp.parallel_apply(df_1k, has_long_words_applicator)\n",
    "_['parent_contains_longword'].value_counts()"
   ]
  },
  {
   "cell_type": "code",
   "execution_count": 10,
   "metadata": {},
   "outputs": [
    {
     "data": {
      "text/plain": [
       "False    180622\n",
       "True     123474\n",
       "Name: parent_contains_test_word, dtype: int64"
      ]
     },
     "execution_count": 10,
     "metadata": {},
     "output_type": "execute_result"
    }
   ],
   "source": [
    "_ = pmp.parallel_apply(df_1k, test_word_applicator)\n",
    "_['parent_contains_test_word'].value_counts()"
   ]
  },
  {
   "cell_type": "code",
   "execution_count": 16,
   "metadata": {},
   "outputs": [
    {
     "name": "stdout",
     "output_type": "stream",
     "text": [
      "2.2197076520023984 1.7246787539988873\n",
      "13.29890669499946 12.736757097001828\n"
     ]
    }
   ],
   "source": [
    "def lw_df_1k():\n",
    "    pmp.parallel_apply(df_1k, has_long_words_applicator)\n",
    "\n",
    "def tw_df_1k():\n",
    "    pmp.parallel_apply(df_1k, test_word_applicator)\n",
    "def tw_vanilla_df_1k():\n",
    "    df_1k['parent_contains_test_word'] = df_1k['parent'].apply(contains_test_word)\n",
    "    \n",
    "def lw_vanilla_df_1k():\n",
    "    df_1k['parent_contains_test_word'] = df_1k['parent'].apply(has_long_words)\n",
    "\n",
    "print('Vanilla Functions outperform on small dataframes')\n",
    "print(timeit.timeit(lw_vanilla_df_1k, number = 2), \n",
    "      timeit.timeit(tw_vanilla_df_1k, number = 2))\n",
    "\n",
    "print(timeit.timeit(lw_df_1k, number = 2), \n",
    "      timeit.timeit(tw_df_1k, number = 2))"
   ]
  },
  {
   "cell_type": "code",
   "execution_count": 17,
   "metadata": {},
   "outputs": [
    {
     "name": "stdout",
     "output_type": "stream",
     "text": [
      "63.32220673899792 47.51651924100224\n",
      "221.6061473910013 203.9420653490015\n"
     ]
    }
   ],
   "source": [
    "\n",
    "def lw_df_10m():\n",
    "    return pmp.parallel_apply(df_10m, has_long_words_applicator)\n",
    "\n",
    "def tw_df_10m():\n",
    "    return pmp.parallel_apply(df_10m, test_word_applicator)\n",
    "\n",
    "def tw_vanilla_df_10m():\n",
    "    df_10m['parent_contains_test_word'] = df_10m['parent'].apply(contains_test_word)\n",
    "    \n",
    "def lw_vanilla_df_10m():\n",
    "    df_10m['parent_contains_test_word'] = df_10m['parent'].apply(has_long_words)\n",
    "\n",
    "print('Vanilla Functions perform way better on large dataframes')\n",
    "print(timeit.timeit(lw_vanilla_df_10m, number = 2), \n",
    "      timeit.timeit(tw_vanilla_df_10m, number = 2))\n",
    "\n",
    "print(timeit.timeit(lw_df_10m, number = 2), \n",
    "      timeit.timeit(tw_df_10m, number = 2))"
   ]
  },
  {
   "cell_type": "code",
   "execution_count": null,
   "metadata": {},
   "outputs": [],
   "source": []
  }
 ],
 "metadata": {
  "kernelspec": {
   "display_name": "Python 3",
   "language": "python",
   "name": "python3"
  },
  "language_info": {
   "codemirror_mode": {
    "name": "ipython",
    "version": 3
   },
   "file_extension": ".py",
   "mimetype": "text/x-python",
   "name": "python",
   "nbconvert_exporter": "python",
   "pygments_lexer": "ipython3",
   "version": "3.6.4"
  }
 },
 "nbformat": 4,
 "nbformat_minor": 2
}
